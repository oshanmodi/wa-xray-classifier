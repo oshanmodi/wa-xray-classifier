{
 "cells": [
  {
   "cell_type": "code",
   "execution_count": 1,
   "id": "bdb43745",
   "metadata": {},
   "outputs": [],
   "source": [
    "from fastai.vision.widgets import *\n",
    "from fastai.vision.all import *"
   ]
  },
  {
   "cell_type": "markdown",
   "id": "c0803fea",
   "metadata": {},
   "source": [
    "## Do you have COVID?\n",
    "\n",
    "Check with the help of XRAY.\n",
    "\n",
    "This is a cute little app to compare your chest xray against thousands of covid infected, pneumonia and normal chest scans. \n",
    "\n",
    "Upload an image of your chest XRAY and click **`Check for COVID`**\n",
    "\n",
    "**DISCLAIMER - PREDICTIONS OF THE APP ARE NOT CONCLUSIVE. PLEASE CONSULT A REGISTERED MEDICAL PRACTITIONER IRRESPECTIVE OF WHAT YOU SEE HERE.**\n",
    "\n",
    "Dataset used - \n",
    "https://github.com/ieee8023/covid-chestxray-dataset\n"
   ]
  },
  {
   "cell_type": "code",
   "execution_count": 2,
   "id": "e44fe27d",
   "metadata": {},
   "outputs": [],
   "source": [
    "path = Path()"
   ]
  },
  {
   "cell_type": "code",
   "execution_count": 3,
   "id": "7e1fc31a",
   "metadata": {},
   "outputs": [],
   "source": [
    "learn_inf = load_learner(path/'export.pkl', cpu = True)"
   ]
  },
  {
   "cell_type": "code",
   "execution_count": 4,
   "id": "db6fc2b8",
   "metadata": {},
   "outputs": [],
   "source": [
    "btn_upload = widgets.FileUpload()\n",
    "out_pl = widgets.Output()\n",
    "lbl = widgets.Label()\n",
    "btn_run = widgets.Button(description = 'Check for COVID')"
   ]
  },
  {
   "cell_type": "code",
   "execution_count": 6,
   "id": "b0c63267",
   "metadata": {},
   "outputs": [],
   "source": [
    "def on_classify_click(change):\n",
    "    lbl.value = ''\n",
    "    img = PILImage.create(btn_upload.data[-1])\n",
    "    pred, pred_idx, probs = learn_inf.predict(img)\n",
    "    out_pl.clear_output()\n",
    "    with out_pl: display(img.to_thumb(400, 400))\n",
    "    lbl.value = f'Prediction : {pred}; Probability : {probs[pred_idx]:.4f}'\n",
    "btn_run.on_click(on_classify_click)"
   ]
  },
  {
   "cell_type": "code",
   "execution_count": 7,
   "id": "88b7d069",
   "metadata": {},
   "outputs": [
    {
     "data": {
      "application/vnd.jupyter.widget-view+json": {
       "model_id": "6464d81f8ea84f32b10bab63054a39e3",
       "version_major": 2,
       "version_minor": 0
      },
      "text/plain": [
       "VBox(children=(Label(value='Select your design:'), FileUpload(value={}, description='Upload'), Button(descript…"
      ]
     },
     "metadata": {},
     "output_type": "display_data"
    }
   ],
   "source": [
    "display(VBox([widgets.Label('Select your XRAY:'),\n",
    "     btn_upload, btn_run, out_pl, lbl]))"
   ]
  },
  {
   "cell_type": "code",
   "execution_count": null,
   "id": "f72fa589",
   "metadata": {},
   "outputs": [],
   "source": []
  }
 ],
 "metadata": {
  "environment": {
   "name": "pytorch-gpu.1-8.m69",
   "type": "gcloud",
   "uri": "gcr.io/deeplearning-platform-release/pytorch-gpu.1-8:m69"
  },
  "kernelspec": {
   "display_name": "Python 3",
   "language": "python",
   "name": "python3"
  },
  "language_info": {
   "codemirror_mode": {
    "name": "ipython",
    "version": 3
   },
   "file_extension": ".py",
   "mimetype": "text/x-python",
   "name": "python",
   "nbconvert_exporter": "python",
   "pygments_lexer": "ipython3",
   "version": "3.7.10"
  }
 },
 "nbformat": 4,
 "nbformat_minor": 5
}
